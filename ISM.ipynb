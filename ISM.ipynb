import numpy as np
import networkx as nx
import matplotlib.pyplot as plt

def process_matrix(X):
    n = X.shape[0]
    Y = np.zeros((n, n), dtype=int)

    for i in range(n):
        for j in range(n):
            if X[i, j] * X[j, i] == 1:
                Y[i, j] = 1

    level = 1
    level_dict = {}

    while True:
        current_level_indices = []
        for i in range(n):
            if np.all(X[i, :] - Y[i, :] == 0):
                current_level_indices.append(i)

        if not current_level_indices:
            break

        for idx in current_level_indices:
            level_dict[idx+1] = level
            X[:, idx] = 0

        level += 1

    return level_dict

def draw_graph(X, level_dict):
    G = nx.DiGraph()
    pos = {}
    levels = set(level_dict.values())
    y_max = len(levels)  # Y positions for the levels

    # Determine positions
    for node, level in level_dict.items():
        pos[node] = (node, -level)  # Negative level for visual clarity

    # Add nodes and edges
    for i in range(len(X)):
        G.add_node(i+1)  # Node labels start from 1
        for j in range(len(X[i])):
            if X[i, j] == 1:
                G.add_edge(i+1, j+1)

    # Draw the network
    nx.draw(G, pos, with_labels=True, node_color='skyblue', node_size=500, edge_color='gray', font_size=12)
    plt.title("Network Graph by Levels")
    plt.show()

# Process the matrix to get level information and then draw the grap
def ism(input_matrix):
  draw_graph_level_dict = process_matrix(input_matrix)
  draw_graph(X_example, draw_graph_level_dict)
