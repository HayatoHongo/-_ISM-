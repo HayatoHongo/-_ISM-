{
  "nbformat": 4,
  "nbformat_minor": 0,
  "metadata": {
    "colab": {
      "provenance": [],
      "authorship_tag": "ABX9TyMMO2nMBBGuw8QtassOqBe9",
      "include_colab_link": true
    },
    "kernelspec": {
      "name": "python3",
      "display_name": "Python 3"
    },
    "language_info": {
      "name": "python"
    }
  },
  "cells": [
    {
      "cell_type": "markdown",
      "metadata": {
        "id": "view-in-github",
        "colab_type": "text"
      },
      "source": [
        "<a href=\"https://colab.research.google.com/github/HayatoHongo/-_ISM-/blob/main/ISM.ipynb\" target=\"_parent\"><img src=\"https://colab.research.google.com/assets/colab-badge.svg\" alt=\"Open In Colab\"/></a>"
      ]
    },
    {
      "cell_type": "code",
      "execution_count": 1,
      "metadata": {
        "id": "qjtZ9fzQzSSv"
      },
      "outputs": [],
      "source": [
        "import numpy as np\n",
        "\n",
        "def compute_reachability_matrix(adj_matrix):\n",
        "    n = adj_matrix.shape[0]\n",
        "    adj_matrix = adj_matrix + np.eye(n, dtype=int)  # 単位行列を加算\n",
        "    reach = adj_matrix.copy()\n",
        "    for k in range(n):\n",
        "        for i in range(n):\n",
        "            for j in range(n):\n",
        "                reach[i, j] = reach[i, j] or (reach[i, k] and reach[k, j])\n",
        "    return reach\n",
        "\n",
        "def process_matrix(X):\n",
        "    n = X.shape[0]\n",
        "    Y = np.zeros((n, n), dtype=int)\n",
        "\n",
        "    # Yの更新\n",
        "    for i in range(n):\n",
        "        for j in range(n):\n",
        "            if X[i, j] * X[j, i] == 1:\n",
        "                Y[i, j] = 1\n",
        "\n",
        "    l = 1\n",
        "    while True:\n",
        "        found = False\n",
        "        zero_columns = []  # 0に設定する列インデックスを保存するリスト\n",
        "        for i in range(n):\n",
        "            if np.all(X[i, :] - Y[i, :] == 0):\n",
        "                print(f\"{i+1} は レベル {l} の要素である\")\n",
        "                found = True\n",
        "                zero_columns.append(i)  # 条件を満たす列インデックスを追加\n",
        "\n",
        "        # 見つかったすべてのiの列を0に設定\n",
        "        for idx in zero_columns:\n",
        "            X[:, idx] = 0\n",
        "\n",
        "        if not found:\n",
        "            break\n",
        "\n",
        "        l += 1\n",
        "\n",
        "def ism(input_matrix):\n",
        "    # 関数1を使用して可到達行列を計算\n",
        "    reach_matrix = compute_reachability_matrix(input_matrix)\n",
        "    print(\"可到達行列:\")\n",
        "    print(reach_matrix)\n",
        "\n",
        "    # 関数2に可到達行列を渡して処理\n",
        "    process_matrix(reach_matrix)"
      ]
    },
    {
      "cell_type": "code",
      "source": [],
      "metadata": {
        "id": "GoExxTmQzf4b"
      },
      "execution_count": null,
      "outputs": []
    }
  ]
}