{
  "nbformat": 4,
  "nbformat_minor": 0,
  "metadata": {
    "colab": {
      "provenance": [],
      "authorship_tag": "ABX9TyNmmqKJn49TK7j0/A6ehJBg",
      "include_colab_link": true
    },
    "kernelspec": {
      "name": "python3",
      "display_name": "Python 3"
    },
    "language_info": {
      "name": "python"
    }
  },
  "cells": [
    {
      "cell_type": "markdown",
      "metadata": {
        "id": "view-in-github",
        "colab_type": "text"
      },
      "source": [
        "<a href=\"https://colab.research.google.com/github/HayatoHongo/-_ISM-/blob/main/new_SM.ipynb\" target=\"_parent\"><img src=\"https://colab.research.google.com/assets/colab-badge.svg\" alt=\"Open In Colab\"/></a>"
      ]
    },
    {
      "cell_type": "code",
      "execution_count": null,
      "metadata": {
        "id": "-yTOe5ZYRWDf"
      },
      "outputs": [],
      "source": [
        "import numpy as np\n",
        "import networkx as nx\n",
        "import matplotlib.pyplot as plt\n",
        "\n",
        "def process_matrix(X):\n",
        "    n = X.shape[0]\n",
        "    Y = np.zeros((n, n), dtype=int)\n",
        "\n",
        "    for i in range(n):\n",
        "        for j in range(n):\n",
        "            if X[i, j] * X[j, i] == 1:\n",
        "                Y[i, j] = 1\n",
        "\n",
        "    level = 1\n",
        "    level_dict = {}\n",
        "\n",
        "    while True:\n",
        "        current_level_indices = []\n",
        "        for i in range(n):\n",
        "            if np.all(X[i, :] - Y[i, :] == 0):\n",
        "                current_level_indices.append(i)\n",
        "\n",
        "        if not current_level_indices:\n",
        "            break\n",
        "\n",
        "        for idx in current_level_indices:\n",
        "            level_dict[idx+1] = level\n",
        "            X[:, idx] = 0\n",
        "\n",
        "        level += 1\n",
        "\n",
        "    return level_dict\n",
        "\n",
        "def draw_graph(X, level_dict):\n",
        "    G = nx.DiGraph()\n",
        "    pos = {}\n",
        "    levels = set(level_dict.values())\n",
        "    y_max = len(levels)  # Y positions for the levels\n",
        "\n",
        "    # Determine positions\n",
        "    for node, level in level_dict.items():\n",
        "        pos[node] = (node, -level)  # Negative level for visual clarity\n",
        "\n",
        "    # Add nodes and edges\n",
        "    for i in range(len(X)):\n",
        "        G.add_node(i+1)  # Node labels start from 1\n",
        "        for j in range(len(X[i])):\n",
        "            if X[i, j] == 1:\n",
        "                G.add_edge(i+1, j+1)\n",
        "\n",
        "    # Draw the network\n",
        "    nx.draw(G, pos, with_labels=True, node_color='skyblue', node_size=500, edge_color='gray', font_size=12)\n",
        "    plt.title(\"Network Graph by Levels\")\n",
        "    plt.show()\n",
        "\n",
        "# Process the matrix to get level information and then draw the grap\n",
        "def ism(input_matrix):\n",
        "  draw_graph_level_dict = process_matrix(input_matrix)\n",
        "  draw_graph(X_example, draw_graph_level_dict)\n"
      ]
    }
  ]
}
